{
 "cells": [
  {
   "cell_type": "code",
   "execution_count": 2,
   "metadata": {},
   "outputs": [],
   "source": [
    "from pattern.en import wordnet"
   ]
  },
  {
   "cell_type": "code",
   "execution_count": 3,
   "metadata": {},
   "outputs": [],
   "source": [
    "import json"
   ]
  },
  {
   "cell_type": "code",
   "execution_count": 11,
   "metadata": {},
   "outputs": [],
   "source": [
    "obj_vocab = json.load(open('train_sceneGraphs_objects_vocab.json'))"
   ]
  },
  {
   "cell_type": "code",
   "execution_count": 15,
   "metadata": {},
   "outputs": [],
   "source": [
    "attr_vocab = json.load(open('train_sceneGraphs_attributes_vocab.json'))"
   ]
  },
  {
   "cell_type": "code",
   "execution_count": 8,
   "metadata": {},
   "outputs": [],
   "source": [
    "attribute_synsets = json.load(open('attribute_synsets.json', 'r'))"
   ]
  },
  {
   "cell_type": "code",
   "execution_count": 63,
   "metadata": {},
   "outputs": [],
   "source": [
    "attr_synsets = json.load(open('train_sceneGraphs_attributes_vocab.json', 'r'))"
   ]
  },
  {
   "cell_type": "code",
   "execution_count": 65,
   "metadata": {},
   "outputs": [
    {
     "data": {
      "text/plain": [
       "617"
      ]
     },
     "execution_count": 65,
     "metadata": {},
     "output_type": "execute_result"
    }
   ],
   "source": [
    "len(attr_vocab)"
   ]
  },
  {
   "cell_type": "code",
   "execution_count": 67,
   "metadata": {},
   "outputs": [
    {
     "data": {
      "text/plain": [
       "617"
      ]
     },
     "execution_count": 67,
     "metadata": {},
     "output_type": "execute_result"
    }
   ],
   "source": [
    "len(set(attr_synsets.keys()).intersection(attr_vocab))"
   ]
  },
  {
   "cell_type": "code",
   "execution_count": 26,
   "metadata": {},
   "outputs": [],
   "source": [
    "obj_syns = json.load(open('train_sceneGraphs_objects_vocab.json', 'r'))"
   ]
  },
  {
   "cell_type": "code",
   "execution_count": 173,
   "metadata": {},
   "outputs": [
    {
     "name": "stdout",
     "output_type": "stream",
     "text": [
      "\n",
      "word: skis, synset_name: ski.n.01\n",
      "[Synset('runner.n.09')]\n",
      "\n",
      "word: pedestrians, synset_name: pedestrian.n.01\n",
      "[Synset('traveler.n.01')]\n",
      "\n",
      "word: hamburger, synset_name: hamburger.n.01\n",
      "[Synset('sandwich.n.01')]\n",
      "\n",
      "word: wheels, synset_name: wheel.n.01\n",
      "[Synset('machine.n.04')]\n",
      "\n",
      "word: stars, synset_name: star.n.01\n",
      "[Synset('celestial_body.n.01')]\n",
      "\n",
      "word: coleslaw, synset_name: coleslaw.n.01\n",
      "[Synset('salad.n.01')]\n",
      "\n",
      "word: cds, synset_name: cadmium.n.01\n",
      "[Synset('metallic_element.n.01')]\n",
      "\n",
      "word: sidewalk, synset_name: sidewalk.n.01\n",
      "[Synset('walk.n.05')]\n",
      "\n",
      "word: heel, synset_name: heel.n.01\n",
      "[Synset('bottom.n.01')]\n",
      "\n",
      "word: packet, synset_name: package.n.01\n",
      "[Synset('collection.n.01')]\n",
      "\n",
      "word: toaster oven, synset_name: toaster_oven.n.01\n",
      "[Synset('kitchen_appliance.n.01')]\n"
     ]
    }
   ],
   "source": [
    "for i, word in enumerate(obj_syns):\n",
    "    synset_name = obj_syns[word]\n",
    "    if synset_name == None:\n",
    "        continue\n",
    "    print()\n",
    "    print(f'word: {word}, synset_name: {synset_name}')\n",
    "    synset = wordnet.wn.synset(synset_name)\n",
    "    print(synset.hypernyms())\n",
    "    if i > 10:\n",
    "        break"
   ]
  },
  {
   "cell_type": "code",
   "execution_count": 179,
   "metadata": {},
   "outputs": [],
   "source": [
    "wheels = wordnet.wn.synset(obj_syns['wheels'])"
   ]
  },
  {
   "cell_type": "code",
   "execution_count": 180,
   "metadata": {},
   "outputs": [
    {
     "data": {
      "text/plain": [
       "['_wordnet_corpus_reader',\n",
       " '_all_hypernyms',\n",
       " '__module__',\n",
       " '__doc__',\n",
       " '__slots__',\n",
       " '__init__',\n",
       " 'pos',\n",
       " 'offset',\n",
       " 'name',\n",
       " 'frame_ids',\n",
       " 'definition',\n",
       " 'examples',\n",
       " 'lexname',\n",
       " '_needs_root',\n",
       " 'lemma_names',\n",
       " 'lemmas',\n",
       " 'root_hypernyms',\n",
       " 'max_depth',\n",
       " 'min_depth',\n",
       " 'closure',\n",
       " 'hypernym_paths',\n",
       " 'common_hypernyms',\n",
       " 'lowest_common_hypernyms',\n",
       " 'hypernym_distances',\n",
       " '_shortest_hypernym_paths',\n",
       " 'shortest_path_distance',\n",
       " 'tree',\n",
       " 'path_similarity',\n",
       " 'lch_similarity',\n",
       " 'wup_similarity',\n",
       " 'res_similarity',\n",
       " 'jcn_similarity',\n",
       " 'lin_similarity',\n",
       " '_iter_hypernym_lists',\n",
       " '__repr__',\n",
       " '_related',\n",
       " '_definition',\n",
       " '_examples',\n",
       " '_frame_ids',\n",
       " '_lemma_names',\n",
       " '_lemma_pointers',\n",
       " '_lemmas',\n",
       " '_lexname',\n",
       " '_max_depth',\n",
       " '_min_depth',\n",
       " '_name',\n",
       " '_offset',\n",
       " '_pointers',\n",
       " '_pos',\n",
       " 'hypernyms',\n",
       " '_hypernyms',\n",
       " 'instance_hypernyms',\n",
       " '_instance_hypernyms',\n",
       " 'hyponyms',\n",
       " 'instance_hyponyms',\n",
       " 'member_holonyms',\n",
       " 'substance_holonyms',\n",
       " 'part_holonyms',\n",
       " 'member_meronyms',\n",
       " 'substance_meronyms',\n",
       " 'part_meronyms',\n",
       " 'topic_domains',\n",
       " 'in_topic_domains',\n",
       " 'region_domains',\n",
       " 'in_region_domains',\n",
       " 'usage_domains',\n",
       " 'in_usage_domains',\n",
       " 'attributes',\n",
       " 'entailments',\n",
       " 'causes',\n",
       " 'also_sees',\n",
       " 'verb_groups',\n",
       " 'similar_tos',\n",
       " '__hash__',\n",
       " '__eq__',\n",
       " '__ne__',\n",
       " '__lt__',\n",
       " '__dict__',\n",
       " '__weakref__',\n",
       " '__gt__',\n",
       " '__le__',\n",
       " '__ge__',\n",
       " '__str__',\n",
       " '__getattribute__',\n",
       " '__setattr__',\n",
       " '__delattr__',\n",
       " '__new__',\n",
       " '__reduce_ex__',\n",
       " '__reduce__',\n",
       " '__subclasshook__',\n",
       " '__init_subclass__',\n",
       " '__format__',\n",
       " '__sizeof__',\n",
       " '__dir__',\n",
       " '__class__']"
      ]
     },
     "execution_count": 180,
     "metadata": {},
     "output_type": "execute_result"
    }
   ],
   "source": []
  },
  {
   "cell_type": "code",
   "execution_count": 73,
   "metadata": {},
   "outputs": [
    {
     "name": "stdout",
     "output_type": "stream",
     "text": [
      "white\n",
      "synset_name: white.a.01\n"
     ]
    },
    {
     "ename": "AttributeError",
     "evalue": "'Synset' object has no attribute 'senses'",
     "output_type": "error",
     "traceback": [
      "\u001b[0;31m---------------------------------------------------------------------------\u001b[0m",
      "\u001b[0;31mAttributeError\u001b[0m                            Traceback (most recent call last)",
      "\u001b[0;32m<ipython-input-73-7b677bf0b9a0>\u001b[0m in \u001b[0;36m<module>\u001b[0;34m\u001b[0m\n\u001b[1;32m      8\u001b[0m     \u001b[0mprint\u001b[0m\u001b[0;34m(\u001b[0m\u001b[0;34mf'synset_name: {synset_name}'\u001b[0m\u001b[0;34m)\u001b[0m\u001b[0;34m\u001b[0m\u001b[0;34m\u001b[0m\u001b[0m\n\u001b[1;32m      9\u001b[0m     \u001b[0msynset\u001b[0m \u001b[0;34m=\u001b[0m \u001b[0mwordnet\u001b[0m\u001b[0;34m.\u001b[0m\u001b[0mwn\u001b[0m\u001b[0;34m.\u001b[0m\u001b[0msynset\u001b[0m\u001b[0;34m(\u001b[0m\u001b[0msynset_name\u001b[0m\u001b[0;34m)\u001b[0m\u001b[0;34m\u001b[0m\u001b[0;34m\u001b[0m\u001b[0m\n\u001b[0;32m---> 10\u001b[0;31m     \u001b[0mprint\u001b[0m\u001b[0;34m(\u001b[0m\u001b[0msynset\u001b[0m\u001b[0;34m.\u001b[0m\u001b[0msenses\u001b[0m\u001b[0;34m)\u001b[0m\u001b[0;34m\u001b[0m\u001b[0;34m\u001b[0m\u001b[0m\n\u001b[0m",
      "\u001b[0;31mAttributeError\u001b[0m: 'Synset' object has no attribute 'senses'"
     ]
    }
   ],
   "source": [
    "for i, word in enumerate(attr_synsets):\n",
    "    if word not in ['white', 'green', 'yellow']:\n",
    "        continue\n",
    "    print(word)\n",
    "    synset_name = attr_synsets[word]\n",
    "    if synset_name == None:\n",
    "        continue\n",
    "    print(f'synset_name: {synset_name}')\n",
    "    synset = wordnet.wn.synset(synset_name)\n",
    "    print(synset.senses)"
   ]
  },
  {
   "cell_type": "code",
   "execution_count": 76,
   "metadata": {},
   "outputs": [
    {
     "data": {
      "text/plain": [
       "['__class__',\n",
       " '__delattr__',\n",
       " '__dict__',\n",
       " '__dir__',\n",
       " '__doc__',\n",
       " '__eq__',\n",
       " '__format__',\n",
       " '__ge__',\n",
       " '__getattribute__',\n",
       " '__gt__',\n",
       " '__hash__',\n",
       " '__init__',\n",
       " '__init_subclass__',\n",
       " '__le__',\n",
       " '__lt__',\n",
       " '__module__',\n",
       " '__ne__',\n",
       " '__new__',\n",
       " '__reduce__',\n",
       " '__reduce_ex__',\n",
       " '__repr__',\n",
       " '__setattr__',\n",
       " '__sizeof__',\n",
       " '__slots__',\n",
       " '__str__',\n",
       " '__subclasshook__',\n",
       " '__weakref__',\n",
       " '_all_hypernyms',\n",
       " '_definition',\n",
       " '_examples',\n",
       " '_frame_ids',\n",
       " '_hypernyms',\n",
       " '_instance_hypernyms',\n",
       " '_iter_hypernym_lists',\n",
       " '_lemma_names',\n",
       " '_lemma_pointers',\n",
       " '_lemmas',\n",
       " '_lexname',\n",
       " '_max_depth',\n",
       " '_min_depth',\n",
       " '_name',\n",
       " '_needs_root',\n",
       " '_offset',\n",
       " '_pointers',\n",
       " '_pos',\n",
       " '_related',\n",
       " '_shortest_hypernym_paths',\n",
       " '_wordnet_corpus_reader',\n",
       " 'also_sees',\n",
       " 'attributes',\n",
       " 'causes',\n",
       " 'closure',\n",
       " 'common_hypernyms',\n",
       " 'definition',\n",
       " 'entailments',\n",
       " 'examples',\n",
       " 'frame_ids',\n",
       " 'hypernym_distances',\n",
       " 'hypernym_paths',\n",
       " 'hypernyms',\n",
       " 'hyponyms',\n",
       " 'in_region_domains',\n",
       " 'in_topic_domains',\n",
       " 'in_usage_domains',\n",
       " 'instance_hypernyms',\n",
       " 'instance_hyponyms',\n",
       " 'jcn_similarity',\n",
       " 'lch_similarity',\n",
       " 'lemma_names',\n",
       " 'lemmas',\n",
       " 'lexname',\n",
       " 'lin_similarity',\n",
       " 'lowest_common_hypernyms',\n",
       " 'max_depth',\n",
       " 'member_holonyms',\n",
       " 'member_meronyms',\n",
       " 'min_depth',\n",
       " 'name',\n",
       " 'offset',\n",
       " 'part_holonyms',\n",
       " 'part_meronyms',\n",
       " 'path_similarity',\n",
       " 'pos',\n",
       " 'region_domains',\n",
       " 'res_similarity',\n",
       " 'root_hypernyms',\n",
       " 'shortest_path_distance',\n",
       " 'similar_tos',\n",
       " 'substance_holonyms',\n",
       " 'substance_meronyms',\n",
       " 'topic_domains',\n",
       " 'tree',\n",
       " 'usage_domains',\n",
       " 'verb_groups',\n",
       " 'wup_similarity']"
      ]
     },
     "execution_count": 76,
     "metadata": {},
     "output_type": "execute_result"
    }
   ],
   "source": [
    "dir(wordnet.wn.synset('white.a.01'))"
   ]
  },
  {
   "cell_type": "code",
   "execution_count": 115,
   "metadata": {},
   "outputs": [
    {
     "data": {
      "text/plain": [
       "False"
      ]
     },
     "execution_count": 115,
     "metadata": {},
     "output_type": "execute_result"
    }
   ],
   "source": [
    "white in list(wordnet.wn.synset('color.a.01').closure(lambda s:s.hyponyms()))"
   ]
  },
  {
   "cell_type": "code",
   "execution_count": 117,
   "metadata": {},
   "outputs": [
    {
     "data": {
      "text/plain": [
       "[Synset('black.n.01'), Synset('gray.n.01'), Synset('white.n.02')]"
      ]
     },
     "execution_count": 117,
     "metadata": {},
     "output_type": "execute_result"
    }
   ],
   "source": [
    "wordnet.wn.synset('achromatic_color.n.01').hyponyms()"
   ]
  },
  {
   "cell_type": "code",
   "execution_count": 138,
   "metadata": {},
   "outputs": [],
   "source": [
    "yellow = wordnet.wn.synset(attr_synsets['yellow'])"
   ]
  },
  {
   "cell_type": "code",
   "execution_count": 139,
   "metadata": {},
   "outputs": [
    {
     "data": {
      "text/plain": [
       "False"
      ]
     },
     "execution_count": 139,
     "metadata": {},
     "output_type": "execute_result"
    }
   ],
   "source": [
    "yellow in list(wordnet.wn.synset('color.n.01').closure(lambda s:s.hyponyms()))"
   ]
  },
  {
   "cell_type": "code",
   "execution_count": 148,
   "metadata": {},
   "outputs": [
    {
     "data": {
      "text/plain": [
       "True"
      ]
     },
     "execution_count": 148,
     "metadata": {},
     "output_type": "execute_result"
    }
   ],
   "source": [
    "'color' in yellow.definition().split(' ')"
   ]
  },
  {
   "cell_type": "code",
   "execution_count": null,
   "metadata": {},
   "outputs": [],
   "source": []
  },
  {
   "cell_type": "code",
   "execution_count": null,
   "metadata": {},
   "outputs": [],
   "source": [
    "wordnet.wn.synset('')"
   ]
  },
  {
   "cell_type": "code",
   "execution_count": 48,
   "metadata": {},
   "outputs": [
    {
     "data": {
      "text/plain": [
       "[Synset('canine.n.02'), Synset('domestic_animal.n.01')]"
      ]
     },
     "execution_count": 48,
     "metadata": {},
     "output_type": "execute_result"
    }
   ],
   "source": [
    "wordnet.synsets('dog')[0].hypernyms()"
   ]
  },
  {
   "cell_type": "code",
   "execution_count": 52,
   "metadata": {},
   "outputs": [
    {
     "ename": "AttributeError",
     "evalue": "module 'pattern.text.en.wordnet' has no attribute 'synset'",
     "output_type": "error",
     "traceback": [
      "\u001b[0;31m---------------------------------------------------------------------------\u001b[0m",
      "\u001b[0;31mAttributeError\u001b[0m                            Traceback (most recent call last)",
      "\u001b[0;32m<ipython-input-52-73d83f45bb2f>\u001b[0m in \u001b[0;36m<module>\u001b[0;34m\u001b[0m\n\u001b[0;32m----> 1\u001b[0;31m \u001b[0mwordnet\u001b[0m\u001b[0;34m.\u001b[0m\u001b[0msynset\u001b[0m\u001b[0;34m(\u001b[0m\u001b[0;34m'ski.n.01'\u001b[0m\u001b[0;34m)\u001b[0m\u001b[0;34m\u001b[0m\u001b[0;34m\u001b[0m\u001b[0m\n\u001b[0m",
      "\u001b[0;31mAttributeError\u001b[0m: module 'pattern.text.en.wordnet' has no attribute 'synset'"
     ]
    }
   ],
   "source": [
    "wordnet.synset('ski.n.01')"
   ]
  },
  {
   "cell_type": "code",
   "execution_count": 54,
   "metadata": {},
   "outputs": [
    {
     "ename": "TypeError",
     "evalue": "synset() missing 1 required positional argument: 'name'",
     "output_type": "error",
     "traceback": [
      "\u001b[0;31m---------------------------------------------------------------------------\u001b[0m",
      "\u001b[0;31mTypeError\u001b[0m                                 Traceback (most recent call last)",
      "\u001b[0;32m<ipython-input-54-f18271a72e70>\u001b[0m in \u001b[0;36m<module>\u001b[0;34m\u001b[0m\n\u001b[0;32m----> 1\u001b[0;31m \u001b[0mwordnet\u001b[0m\u001b[0;34m.\u001b[0m\u001b[0mwn\u001b[0m\u001b[0;34m.\u001b[0m\u001b[0msynset\u001b[0m\u001b[0;34m(\u001b[0m\u001b[0;34m)\u001b[0m\u001b[0;34m\u001b[0m\u001b[0;34m\u001b[0m\u001b[0m\n\u001b[0m",
      "\u001b[0;31mTypeError\u001b[0m: synset() missing 1 required positional argument: 'name'"
     ]
    }
   ],
   "source": []
  },
  {
   "cell_type": "code",
   "execution_count": 150,
   "metadata": {},
   "outputs": [],
   "source": [
    "data_prefix = 'train'\n",
    "scenes = json.load(open(f'{data_prefix}_sceneGraphs.json', 'r'))\n",
    "scenes = {k: scenes[k] for k in list(scenes.keys())[:5]}"
   ]
  },
  {
   "cell_type": "code",
   "execution_count": 153,
   "metadata": {},
   "outputs": [
    {
     "data": {
      "text/plain": [
       "dict_keys(['2386621', '2373554', '2370799', '2370791', '2370790'])"
      ]
     },
     "execution_count": 153,
     "metadata": {},
     "output_type": "execute_result"
    }
   ],
   "source": [
    "scenes.keys()"
   ]
  },
  {
   "cell_type": "code",
   "execution_count": 163,
   "metadata": {},
   "outputs": [],
   "source": []
  },
  {
   "cell_type": "code",
   "execution_count": 188,
   "metadata": {},
   "outputs": [],
   "source": [
    "from engine.question_engine import QGenerator"
   ]
  },
  {
   "cell_type": "code",
   "execution_count": 189,
   "metadata": {},
   "outputs": [],
   "source": [
    "engine = QGenerator()"
   ]
  },
  {
   "cell_type": "code",
   "execution_count": 192,
   "metadata": {},
   "outputs": [],
   "source": [
    "question_family = 'simple_numeracy'\n",
    "question = json.load(open(f'question_families/{question_family}.json', 'r'))\n",
    "program = question['program']\n",
    "text_templates = question['templates']"
   ]
  },
  {
   "cell_type": "code",
   "execution_count": 193,
   "metadata": {},
   "outputs": [
    {
     "data": {
      "text/plain": [
       "{'name': 'simple_numeracy',\n",
       " 'constraints': [],\n",
       " 'program': ['count', ['scene', 'obj1', 'attrs1']],\n",
       " 'templates': ['What number of <attrs1> <obj1> are there?',\n",
       "  'How many <attrs1> <obj1> are there?'],\n",
       " 'tokens': ['obj1', 'attrs1']}"
      ]
     },
     "execution_count": 193,
     "metadata": {},
     "output_type": "execute_result"
    }
   ],
   "source": [
    "question"
   ]
  },
  {
   "cell_type": "code",
   "execution_count": null,
   "metadata": {},
   "outputs": [],
   "source": []
  }
 ],
 "metadata": {
  "kernelspec": {
   "display_name": "Python 3",
   "language": "python",
   "name": "python3"
  },
  "language_info": {
   "codemirror_mode": {
    "name": "ipython",
    "version": 3
   },
   "file_extension": ".py",
   "mimetype": "text/x-python",
   "name": "python",
   "nbconvert_exporter": "python",
   "pygments_lexer": "ipython3",
   "version": "3.7.9"
  }
 },
 "nbformat": 4,
 "nbformat_minor": 4
}
