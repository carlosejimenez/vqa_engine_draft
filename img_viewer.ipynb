{
 "cells": [
  {
   "cell_type": "code",
   "execution_count": 1,
   "metadata": {
    "collapsed": false,
    "jupyter": {
     "outputs_hidden": false
    },
    "pycharm": {
     "is_executing": false,
     "name": "#%%\n"
    }
   },
   "outputs": [],
   "source": [
    "import json\n",
    "import os\n",
    "import engine\n",
    "import numpy as np\n",
    "import random\n",
    "import ipywidgets as widgets\n",
    "from ipywidgets.embed import embed_minimal_html\n",
    "from num2words import num2words\n",
    "from IPython.display import display\n",
    "from PIL import Image\n",
    "from pprint import pprint\n",
    "from tqdm import tqdm\n",
    "from functools import reduce"
   ]
  },
  {
   "cell_type": "code",
   "execution_count": 2,
   "metadata": {},
   "outputs": [],
   "source": [
    "generator = engine.QGenerator()\n",
    "data_prefix = 'val'\n",
    "scenes = json.load(open(f'{data_prefix}_sceneGraphs.json', 'r'))\n",
    "valid_questions = json.load(open('gqa_questions/valid.json'))\n",
    "img_ids = set(json.load(open('valid_img_ids.json')))\n",
    "scenes = {k: scenes[k] for k in list(scenes.keys()) for k in img_ids}"
   ]
  },
  {
   "cell_type": "code",
   "execution_count": 3,
   "metadata": {},
   "outputs": [],
   "source": [
    "assert set(scenes.keys()) == img_ids\n",
    "vocab = set(json.load(open('val_label_vocab.json')))"
   ]
  },
  {
   "cell_type": "code",
   "execution_count": 10,
   "metadata": {},
   "outputs": [],
   "source": [
    "def get_questions(question_family, scene):\n",
    "    family = json.load(open(f'question_families/{question_family}.json', 'r'))\n",
    "    tokens = frozenset(family['tokens'])\n",
    "    constraints = set(family['constraints'])\n",
    "    program = family['program']\n",
    "    templates = family['templates']\n",
    "    all_assignments = list()\n",
    "    for assignment in generator.generate_assignments(scene, tokens, constraints):\n",
    "        if assignment not in all_assignments:\n",
    "            all_assignments.append(assignment)\n",
    "    sent_ans = set()\n",
    "    for a_ix, assignment in enumerate(all_assignments):\n",
    "        answer = generator.handler.get_answer(scene, program, assignment)\n",
    "        for t_ix, template in enumerate(templates):\n",
    "            sent = generator.expand_text_template(template, assignment)\n",
    "            sent_ans.add((sent, answer))\n",
    "    return list(zip(sent_ans))"
   ]
  },
  {
   "cell_type": "code",
   "execution_count": 16,
   "metadata": {},
   "outputs": [
    {
     "data": {
      "application/vnd.jupyter.widget-view+json": {
       "model_id": "a7c60e3058af46419e731bc21748db44",
       "version_major": 2,
       "version_minor": 0
      },
      "text/plain": [
       "interactive(children=(Dropdown(description='Q Family:', options=('gqa', 'color_query_bool', 'color_query', 'si…"
      ]
     },
     "metadata": {},
     "output_type": "display_data"
    }
   ],
   "source": [
    "img_id_menu = widgets.Dropdown(\n",
    "    options=list(map(str, sorted(map(int, scenes.keys())))),\n",
    "    description='Image:',\n",
    "    disabled=False,\n",
    ")\n",
    "question_families = list(map(lambda x: x.rsplit('.')[0], \n",
    "                             filter(lambda x: x.endswith('.json'), \n",
    "                                    os.listdir('question_families/'))))\n",
    "question_families.insert(0, 'gqa')\n",
    "question_family_menu = widgets.Dropdown(\n",
    "    options=question_families,\n",
    "    description='Q Family:',\n",
    "    disabled=False,\n",
    ")\n",
    "def show_image(value):\n",
    "    img_filename = f'./images/{value}.jpg'\n",
    "    im = Image.open(img_filename)\n",
    "    ratio = 500/im.size[0]\n",
    "    im = im.resize([round(im.size[0]*ratio), round(im.size[1] * ratio)])\n",
    "    display(im)\n",
    "def show_questions(family, scene_id):\n",
    "    scene = scenes[scene_id]\n",
    "    show_image(scene_id)\n",
    "    if family != 'gqa':\n",
    "        for sent_answer in get_questions(family, scene):\n",
    "            sent, answer = sent_answer[0]\n",
    "            print(sent)\n",
    "            print(f'  {answer}')\n",
    "    else:\n",
    "        questions = list(filter(lambda x: x['img_id'] == scene_id, valid_questions))\n",
    "        for question in questions:\n",
    "            sent = question['sent']\n",
    "            answer = list(question['label'].keys())[0]\n",
    "            print(sent)\n",
    "            print(f'  {answer}')\n",
    "\n",
    "img_q = widgets.interactive(show_questions, family=question_family_menu, scene_id=img_id_menu)\n",
    "display(img_q)"
   ]
  },
  {
   "cell_type": "code",
   "execution_count": null,
   "metadata": {},
   "outputs": [],
   "source": []
  },
  {
   "cell_type": "code",
   "execution_count": null,
   "metadata": {},
   "outputs": [],
   "source": []
  },
  {
   "cell_type": "code",
   "execution_count": null,
   "metadata": {},
   "outputs": [],
   "source": []
  }
 ],
 "metadata": {
  "kernelspec": {
   "display_name": "Python 3",
   "language": "python",
   "name": "python3"
  },
  "language_info": {
   "codemirror_mode": {
    "name": "ipython",
    "version": 3
   },
   "file_extension": ".py",
   "mimetype": "text/x-python",
   "name": "python",
   "nbconvert_exporter": "python",
   "pygments_lexer": "ipython3",
   "version": "3.7.9"
  },
  "pycharm": {
   "stem_cell": {
    "cell_type": "raw",
    "metadata": {
     "collapsed": false
    },
    "source": []
   }
  }
 },
 "nbformat": 4,
 "nbformat_minor": 4
}
